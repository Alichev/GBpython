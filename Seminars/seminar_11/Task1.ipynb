{
 "cells": [
  {
   "cell_type": "code",
   "execution_count": 1,
   "id": "759d550e",
   "metadata": {},
   "outputs": [],
   "source": [
    "import math"
   ]
  },
  {
   "cell_type": "code",
   "execution_count": 2,
   "id": "71d01e3f",
   "metadata": {},
   "outputs": [],
   "source": [
    "import sympy"
   ]
  },
  {
   "cell_type": "code",
   "execution_count": 3,
   "id": "6f2f4f90",
   "metadata": {},
   "outputs": [],
   "source": [
    "from sympy import *"
   ]
  },
  {
   "cell_type": "code",
   "execution_count": 4,
   "id": "81676cda",
   "metadata": {},
   "outputs": [],
   "source": [
    "from sympy.plotting import plot"
   ]
  },
  {
   "cell_type": "code",
   "execution_count": 5,
   "id": "df7c8022",
   "metadata": {},
   "outputs": [],
   "source": [
    "x = symbols('x')"
   ]
  },
  {
   "cell_type": "code",
   "execution_count": 6,
   "id": "3123d48f",
   "metadata": {},
   "outputs": [],
   "source": [
    "y = -5*x**2 + 4*x + 14"
   ]
  },
  {
   "cell_type": "code",
   "execution_count": 9,
   "id": "ac98f05d",
   "metadata": {},
   "outputs": [],
   "source": [
    "fd = diff(y)"
   ]
  },
  {
   "cell_type": "code",
   "execution_count": 10,
   "id": "a77eb597",
   "metadata": {},
   "outputs": [
    {
     "name": "stdout",
     "output_type": "stream",
     "text": [
      "(x < 2/5 + sqrt(74)/5) & (2/5 - sqrt(74)/5 < x)\n",
      "((-oo < x) & (x < 2/5 - sqrt(74)/5)) | ((x < oo) & (2/5 + sqrt(74)/5 < x))\n",
      "(-oo < x) & (x < 2/5)\n",
      "(2/5 < x) & (x < oo)\n"
     ]
    }
   ],
   "source": [
    "print(solve(y>0))\n",
    "print(solve(y<0))\n",
    "print(solve(fd>0))\n",
    "print(solve(fd<0))"
   ]
  }
 ],
 "metadata": {
  "kernelspec": {
   "display_name": "venv",
   "language": "python",
   "name": "python3"
  },
  "language_info": {
   "codemirror_mode": {
    "name": "ipython",
    "version": 3
   },
   "file_extension": ".py",
   "mimetype": "text/x-python",
   "name": "python",
   "nbconvert_exporter": "python",
   "pygments_lexer": "ipython3",
   "version": "3.11.1"
  },
  "vscode": {
   "interpreter": {
    "hash": "797c55e814b8491fc19289071fc8365ab9e4b73db5edd11396bdf14274739f71"
   }
  }
 },
 "nbformat": 4,
 "nbformat_minor": 5
}
