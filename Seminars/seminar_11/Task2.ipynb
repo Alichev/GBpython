{
 "cells": [
  {
   "cell_type": "code",
   "execution_count": 13,
   "id": "759d550e",
   "metadata": {},
   "outputs": [],
   "source": [
    "# Дана функция f(x)=5*x**2 + 10*x - 30\n",
    "# Определить корни\n",
    "# Найти интервалы, на которых функция возрастает\n",
    "# Найти интервалы, на которых функция убывает\n",
    "# Построить график\n",
    "# Вычислить вершину\n",
    "# Определить промежутки, на которых f>0\n",
    "# Определить промежутки, на которых f<0\n",
    "\n",
    "import math\n",
    "import sympy\n",
    "from sympy import *\n",
    "from sympy.plotting import plot"
   ]
  },
  {
   "cell_type": "code",
   "execution_count": 14,
   "id": "df7c8022",
   "metadata": {},
   "outputs": [
    {
     "data": {
      "text/latex": [
       "$\\displaystyle 5 x^{2} + 10 x - 30$"
      ],
      "text/plain": [
       "5*x**2 + 10*x - 30"
      ]
     },
     "execution_count": 14,
     "metadata": {},
     "output_type": "execute_result"
    }
   ],
   "source": [
    "x = symbols('x')\n",
    "fx = 5*x**2 + 10*x - 30\n",
    "fx"
   ]
  },
  {
   "cell_type": "code",
   "execution_count": 15,
   "id": "e99551e4",
   "metadata": {},
   "outputs": [
    {
     "name": "stdout",
     "output_type": "stream",
     "text": [
      "    570 |                                                      /\n",
      "        |                                                     . \n",
      "        |                                                       \n",
      "        |                                                    .  \n",
      "        |                                                   /   \n",
      "        |                                                  /    \n",
      "        |                                                 /     \n",
      "        |\\                                               /      \n",
      "        | \\                                             /       \n",
      "        |  \\                                           /        \n",
      "    270 |---\\-----------------------------------------/---------\n",
      "        |    \\                                       /          \n",
      "        |     \\                                     /           \n",
      "        |      ..                                  /            \n",
      "        |        \\                                /             \n",
      "        |         ..                            ..              \n",
      "        |           \\                         ..                \n",
      "        |            ..                      /                  \n",
      "        |              ..                 ...                   \n",
      "        |                ...           ...                      \n",
      "    -30 |_______________________________________________________\n",
      "         -10                        0                          10\n"
     ]
    }
   ],
   "source": [
    "p = plot(fx,(x, -10, 10)) # построить график"
   ]
  },
  {
   "cell_type": "code",
   "execution_count": 16,
   "id": "361c74ec",
   "metadata": {},
   "outputs": [
    {
     "name": "stdout",
     "output_type": "stream",
     "text": [
      "-1 + sqrt(7) -sqrt(7) - 1\n"
     ]
    }
   ],
   "source": [
    "sqrt_1, sqrt_2 = solve(fx) # определить корни\n",
    "print(sqrt_1, sqrt_2)"
   ]
  },
  {
   "cell_type": "code",
   "execution_count": 17,
   "id": "32fce33c",
   "metadata": {},
   "outputs": [
    {
     "name": "stdout",
     "output_type": "stream",
     "text": [
      "10*x + 10\n"
     ]
    }
   ],
   "source": [
    "pr = diff(fx) # находим дифференциал, т.к. вершина - это где он меняет знак\n",
    "print(pr)"
   ]
  },
  {
   "cell_type": "code",
   "execution_count": 18,
   "id": "2693bdad",
   "metadata": {},
   "outputs": [
    {
     "name": "stdout",
     "output_type": "stream",
     "text": [
      "-1\n"
     ]
    }
   ],
   "source": [
    "apex = solve(diff(fx))[0] # находим вершину\n",
    "print(apex)"
   ]
  },
  {
   "cell_type": "code",
   "execution_count": 19,
   "id": "d02e8775",
   "metadata": {},
   "outputs": [
    {
     "data": {
      "text/latex": [
       "$\\displaystyle -1 < x \\wedge x < \\infty$"
      ],
      "text/plain": [
       "(-1 < x) & (x < oo)"
      ]
     },
     "execution_count": 19,
     "metadata": {},
     "output_type": "execute_result"
    }
   ],
   "source": [
    "solve(diff(fx)>0) # функция возрастает"
   ]
  },
  {
   "cell_type": "code",
   "execution_count": 20,
   "id": "b382f466",
   "metadata": {},
   "outputs": [
    {
     "data": {
      "text/latex": [
       "$\\displaystyle -\\infty < x \\wedge x < -1$"
      ],
      "text/plain": [
       "(-oo < x) & (x < -1)"
      ]
     },
     "execution_count": 20,
     "metadata": {},
     "output_type": "execute_result"
    }
   ],
   "source": [
    "solve(diff(fx)<0) # функция убывает"
   ]
  },
  {
   "cell_type": "code",
   "execution_count": 21,
   "id": "6acebaf9",
   "metadata": {},
   "outputs": [
    {
     "data": {
      "text/latex": [
       "$\\displaystyle \\left(-\\infty < x \\wedge x < - \\sqrt{7} - 1\\right) \\vee \\left(x < \\infty \\wedge -1 + \\sqrt{7} < x\\right)$"
      ],
      "text/plain": [
       "((x < oo) & (-1 + sqrt(7) < x)) | ((-oo < x) & (x < -sqrt(7) - 1))"
      ]
     },
     "execution_count": 21,
     "metadata": {},
     "output_type": "execute_result"
    }
   ],
   "source": [
    "solve(fx>0) # промежутки f>0"
   ]
  },
  {
   "cell_type": "code",
   "execution_count": 22,
   "id": "9bf4a03d",
   "metadata": {},
   "outputs": [
    {
     "data": {
      "text/latex": [
       "$\\displaystyle x < -1 + \\sqrt{7} \\wedge - \\sqrt{7} - 1 < x$"
      ],
      "text/plain": [
       "(x < -1 + sqrt(7)) & (-sqrt(7) - 1 < x)"
      ]
     },
     "execution_count": 22,
     "metadata": {},
     "output_type": "execute_result"
    }
   ],
   "source": [
    "solve(fx<0) # промежутки f<0"
   ]
  }
 ],
 "metadata": {
  "kernelspec": {
   "display_name": "venv",
   "language": "python",
   "name": "python3"
  },
  "language_info": {
   "codemirror_mode": {
    "name": "ipython",
    "version": 3
   },
   "file_extension": ".py",
   "mimetype": "text/x-python",
   "name": "python",
   "nbconvert_exporter": "python",
   "pygments_lexer": "ipython3",
   "version": "3.11.1"
  },
  "vscode": {
   "interpreter": {
    "hash": "797c55e814b8491fc19289071fc8365ab9e4b73db5edd11396bdf14274739f71"
   }
  }
 },
 "nbformat": 4,
 "nbformat_minor": 5
}
